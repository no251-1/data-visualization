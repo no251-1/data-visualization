{
 "cells": [
  {
   "cell_type": "markdown",
   "metadata": {},
   "source": [
    "# 校园消费数据预处理 Homework 1"
   ]
  },
  {
   "cell_type": "markdown",
   "metadata": {
    "jp-MarkdownHeadingCollapsed": true,
    "tags": []
   },
   "source": [
    "## 一 任务内容\n",
    "\n",
    "我们即将在下一个项目中学习如何进行校园消费数据的可视化，在此之前，需要对校园消费数据进行预处理。\n",
    "\n",
    "已知校园消费数据存在下列问题：\n",
    "\n",
    "1. 数据中存在内容重复的列，比如'门店名称'列与'收银员'列，'应收金额'列与'实收金额'列；\n",
    "2. 消费金额中存在负值；\n",
    "3. '会员姓名'列与'会员编号'列中有很多空值；\n",
    "4. 对于消费数据分析无用的列，比如'交易号'，'订单号'等列；\n",
    "5. 消费数据只有卡机编号（'门店名称'列的内容），我们需要商户的具体名称，以及所在食堂；\n",
    "6. 虽然会员姓名与会员编号可以对应到具体的学生，但是我们更需要的是学生的具体信息，比如性别，年级，来源省份等。\n",
    "\n",
    "为了解决上述问题，我们需要在数据清洗后继续进行数据规整与合并。\n",
    "\n",
    "在此任务中，为大家提供的文件包括：\n",
    "\n",
    "1. 月度消费数据\n",
    "2. 卡机列表\n",
    "3. 学生信息\n",
    "\n",
    "<font color=Red>**注意**，由于我们使用的智慧校园服务中心和教务处提供的真实数据，大家在使用的过程中要一定注意保密，不可以随便泄漏学生信息。</font>"
   ]
  },
  {
   "cell_type": "markdown",
   "metadata": {
    "tags": []
   },
   "source": [
    "## 二 实现步骤"
   ]
  },
  {
   "cell_type": "markdown",
   "metadata": {},
   "source": [
    "### Step 1 导入 numpy/pandas 库"
   ]
  },
  {
   "cell_type": "code",
   "execution_count": 2,
   "metadata": {},
   "outputs": [],
   "source": [
    "# 在这里输入你的代码\n"
   ]
  },
  {
   "cell_type": "markdown",
   "metadata": {},
   "source": [
    "### Step 2 读入某个月的校园消费数据\n",
    "\n",
    "1. 导入 os 库用于读取数据；\n",
    "2. 已知 2021年5月消费数据的存储路径为'./data/2021-05'，将其读入名为'df_month'的 DataFrame 中；\n",
    "3. 查看导入的数据。"
   ]
  },
  {
   "cell_type": "code",
   "execution_count": null,
   "metadata": {},
   "outputs": [],
   "source": [
    "# 设置简单的 warning 为不显示\n",
    "\n",
    "import warnings\n",
    "warnings.simplefilter(\"ignore\")\n",
    "\n",
    "# 导入 os 模块\n",
    "\n",
    "\n",
    "# 设置数据存放文件夹的路径\n",
    "\n",
    "\n",
    "# 创建一个空的 dataframe，方便数据合并\n",
    "\n",
    "\n",
    "# 使用循环语句和 os 模块读入一个月的数据，存入 df_month 里\n",
    "\n"
   ]
  },
  {
   "cell_type": "code",
   "execution_count": null,
   "metadata": {},
   "outputs": [],
   "source": [
    "# 查看 df_month 的内容\n",
    "\n",
    "df_month"
   ]
  },
  {
   "cell_type": "markdown",
   "metadata": {},
   "source": [
    "### Step 3 提取需要的数据列\n",
    "\n",
    "- **方法1**：按顺序提取'交易时间'，'会员编号'，'门店名称'，'实收合计(元)'列，并生成名为 df_new 的 *DataFrame*；\n",
    "\n",
    "- **方法2**：删除除方法 1 列出的其他列，提示：`dataframe.drop()`方法。"
   ]
  },
  {
   "cell_type": "code",
   "execution_count": null,
   "metadata": {},
   "outputs": [],
   "source": [
    "# 在这里输入你的代码\n",
    "\n",
    "df_new"
   ]
  },
  {
   "cell_type": "markdown",
   "metadata": {
    "tags": []
   },
   "source": [
    "### Step 4 查看数据的描述性统计"
   ]
  },
  {
   "cell_type": "code",
   "execution_count": null,
   "metadata": {},
   "outputs": [],
   "source": [
    "# 在这里输入你的代码\n",
    "\n",
    "df_new"
   ]
  },
  {
   "cell_type": "markdown",
   "metadata": {
    "tags": []
   },
   "source": [
    "### Step 5 查看数据是否存在空值"
   ]
  },
  {
   "cell_type": "code",
   "execution_count": null,
   "metadata": {},
   "outputs": [],
   "source": [
    "# 在这里输入你的代码\n",
    "\n",
    "df_new"
   ]
  },
  {
   "cell_type": "markdown",
   "metadata": {},
   "source": [
    "### Step 6 读入 '食堂卡机表' Excel文件。"
   ]
  },
  {
   "cell_type": "code",
   "execution_count": null,
   "metadata": {},
   "outputs": [],
   "source": [
    "# 在这里输入你的代码\n",
    "\n",
    "df_card_list"
   ]
  },
  {
   "cell_type": "markdown",
   "metadata": {
    "tags": []
   },
   "source": [
    "### Step 7 合并食堂卡机表和消费数据\n",
    "\n",
    "已知食堂卡机表中 df_card_list '卡机' 列的内容与消费数据 df_new 中的 '门店名称' 列相对应，尝试以 '卡机' 列为依据将 2 个 *DataFrame* 合并。\n",
    "\n",
    "我们要达到的效果是，以'卡机'为桥梁，为消费数据增加'对应商户'，'所属食堂'，'所在区域'，'所在楼层'等信息。\n",
    "\n",
    "**注意**：数据合并时不能改变消费数据原有的对应关系，如果需要重命名，可以使用`DataFrame.rename()`方法来实现。"
   ]
  },
  {
   "cell_type": "code",
   "execution_count": null,
   "metadata": {},
   "outputs": [],
   "source": [
    "# 将 \"门店名称\" 列重命名为 \"卡机\"\n",
    "\n",
    "df_new.rename(columns={'门店名称':'卡机'}, inplace=True) \n",
    "\n",
    "# 查看 df_new 的前 10 行\n",
    "\n",
    "df_new"
   ]
  },
  {
   "cell_type": "code",
   "execution_count": null,
   "metadata": {},
   "outputs": [],
   "source": [
    "# 将两个 DataFrame 合并，生成一个名为 'df_merge' 的 DataFrame\n",
    "\n",
    "df_merge"
   ]
  },
  {
   "cell_type": "code",
   "execution_count": null,
   "metadata": {},
   "outputs": [],
   "source": [
    "# 查看合并后的 DataFrame\n",
    "\n"
   ]
  },
  {
   "cell_type": "code",
   "execution_count": null,
   "metadata": {},
   "outputs": [],
   "source": [
    "# 统计对应商户列的消费情况，比如 value_counts()\n",
    "\n",
    "df_merge[]"
   ]
  },
  {
   "cell_type": "markdown",
   "metadata": {},
   "source": [
    "观察 '对应商户' 的数据，从中可以发现哪些问题？\n",
    "\n",
    "1. 商户名称是否统一\n",
    "2. 是否均为消费数据\n",
    "<br>...\n",
    "\n",
    "接下来我们对数据做进一步处理：删除非食堂消费数据。\n",
    "\n",
    "这里我们使用了取反操作，代码直接给出，大家也可以尝试其他方法来实现。"
   ]
  },
  {
   "cell_type": "code",
   "execution_count": null,
   "metadata": {},
   "outputs": [],
   "source": [
    "# 删除非食堂消费数据，比如 '医药费'，'换卡费用'，'图书超期'，'空' 等\n",
    "\n",
    "df_merge = df_merge[~df_merge.isin(['医药费','换卡费用', '图书超期','空'])].dropna()"
   ]
  },
  {
   "cell_type": "code",
   "execution_count": null,
   "metadata": {},
   "outputs": [],
   "source": [
    "# 再次查看 '对应商户' 列的消费统计数据，确实非食堂消费数据已被清除成功\n",
    "\n"
   ]
  },
  {
   "cell_type": "markdown",
   "metadata": {},
   "source": [
    "### Step 8 保存处理好的数据"
   ]
  },
  {
   "cell_type": "code",
   "execution_count": 12,
   "metadata": {},
   "outputs": [],
   "source": [
    "# 以文件名 '2021-05-withcanteen.csv' 保存处理好的数据，不包含 index 列\n",
    "\n"
   ]
  },
  {
   "cell_type": "markdown",
   "metadata": {},
   "source": [
    "## 三 问题记录及持续改进\n",
    "\n",
    "1. 如何改善数据读入速度\n",
    "2. 会员编号的数据格式\n",
    "3. 商户名称混乱\n",
    "<br>..."
   ]
  },
  {
   "cell_type": "code",
   "execution_count": null,
   "metadata": {},
   "outputs": [],
   "source": []
  }
 ],
 "metadata": {
  "kernelspec": {
   "display_name": "Python 3 (ipykernel)",
   "language": "python",
   "name": "python3"
  },
  "language_info": {
   "codemirror_mode": {
    "name": "ipython",
    "version": 3
   },
   "file_extension": ".py",
   "mimetype": "text/x-python",
   "name": "python",
   "nbconvert_exporter": "python",
   "pygments_lexer": "ipython3",
   "version": "3.9.7"
  }
 },
 "nbformat": 4,
 "nbformat_minor": 4
}
