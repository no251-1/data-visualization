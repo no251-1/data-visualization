{
 "cells": [
  {
   "cell_type": "markdown",
   "metadata": {},
   "source": [
    "### 任务二\n",
    "\n",
    "读入某天的校园消费数据，生成时间序列索引的 DataFrame ，提取出当天 16 点至 19 点之间零售额小于 10 元的某一食堂窗口（门店）的数据切片。"
   ]
  },
  {
   "cell_type": "code",
   "execution_count": null,
   "metadata": {},
   "outputs": [],
   "source": [
    "# 导入数据分析所以需要的库\n",
    "\n",
    "import pandas as pd\n",
    "import numpy as np\n",
    "from datetime import datetime\n",
    "import matplotlib.pyplot as plt"
   ]
  },
  {
   "cell_type": "code",
   "execution_count": null,
   "metadata": {},
   "outputs": [],
   "source": [
    "# 导入某天的校园消费数据（Excel）\n",
    "\n",
    "data_of_one_day = \n",
    "\n",
    "# 查看表头及前 4 行数据\n",
    "\n",
    "data_of_one_day.head()"
   ]
  },
  {
   "cell_type": "code",
   "execution_count": null,
   "metadata": {},
   "outputs": [],
   "source": [
    "# 提取 '交易时间'、'门店名称'、'实收合计(元)' 3列数据，生成新的 DataFrame：df\n",
    "\n",
    "df = data_of_one_day[]\n",
    "\n",
    "# 将 3 列数据的列名改为 'time','window','sales'\n",
    "\n",
    "df.columns = []\n",
    "df"
   ]
  },
  {
   "cell_type": "code",
   "execution_count": null,
   "metadata": {},
   "outputs": [],
   "source": [
    "# 将 'time' 列设置为 df 的 index\n",
    "\n",
    "df.set_index('time',inplace=True)\n",
    "df"
   ]
  },
  {
   "cell_type": "code",
   "execution_count": null,
   "metadata": {},
   "outputs": [],
   "source": [
    "# 将 df.index 设置为时间序列格式\n",
    "\n",
    "df.index = pd.to_datetime(df.index)"
   ]
  },
  {
   "cell_type": "code",
   "execution_count": null,
   "metadata": {},
   "outputs": [],
   "source": [
    "# 查看 df.index 的数据格式\n",
    "\n",
    "type()"
   ]
  },
  {
   "cell_type": "code",
   "execution_count": null,
   "metadata": {},
   "outputs": [],
   "source": [
    "# 将 df.index 按时间正序排列\n",
    "\n",
    "df_time_ascending = df.sort_index(ascending=True) \n",
    "df = df_time_ascending\n",
    "df"
   ]
  },
  {
   "cell_type": "code",
   "execution_count": null,
   "metadata": {},
   "outputs": [],
   "source": [
    "# 用 dataframe.loc() 函数提取当天 16:00:00 ~ 19:00:00 之间的消费数据\n",
    "\n",
    "df_dinner_time = df.loc[]\n",
    "\n",
    "# 应用条件选择提取零售额小于 10 以及某一食堂窗口（门店）的数据切片\n",
    "\n",
    "df_dinner_time[( ) & ( )]"
   ]
  },
  {
   "cell_type": "markdown",
   "metadata": {},
   "source": [
    "**注意**，以下非本作业内容。\n",
    "\n",
    "以下内容的主要目的，是让大家提前了解一些 pandas 分组、重采样及可视化的方法，为将来的学习打基础。\n",
    "- 数据分组方法，`dataframe.groupby()`\n",
    "- 数据重采样方法，`dataframe.resample()`\n",
    "- 数据绘图（可视化）方法：`dataframe.plot()`"
   ]
  },
  {
   "cell_type": "code",
   "execution_count": null,
   "metadata": {},
   "outputs": [],
   "source": [
    "# 用 dataframe.groupby() 查看按食堂窗口（门店）分组的数据\n",
    "\n",
    "df.groupby('merchant').describe()"
   ]
  },
  {
   "cell_type": "code",
   "execution_count": null,
   "metadata": {},
   "outputs": [],
   "source": [
    "# 查看按食堂窗口销售额排行\n",
    "\n",
    "sales_by_merchant = df.groupby('merchant').sum()\n",
    "sales_by_merchant.sort_values('sales',ascending=False)"
   ]
  },
  {
   "cell_type": "code",
   "execution_count": null,
   "metadata": {},
   "outputs": [],
   "source": [
    "# 利用饼图查看食堂窗口销售额\n",
    "\n",
    "plt.rcParams['font.sans-serif']=['SimHei']  # 用来正常显示中文标签\n",
    "sales_by_merchant.plot.pie(subplots=True)"
   ]
  },
  {
   "cell_type": "code",
   "execution_count": null,
   "metadata": {},
   "outputs": [],
   "source": [
    "# 按小时重新采样，获得每小时的销售额\n",
    "\n",
    "sum_by_hour = df.resample('H').sum() # 再试试 '2H'和 '0.5H'\n",
    "sum_by_hour"
   ]
  },
  {
   "cell_type": "code",
   "execution_count": null,
   "metadata": {},
   "outputs": [],
   "source": [
    "# 利用 dataframe.reindex() 方法，绘制全天时间的消费情况\n",
    "\n",
    "new_index = pd.date_range('2020-08-01 00:00:00','2020-08-02 00:00:00',freq='H')\n",
    "sum_by_hour.reindex(new_index).plot.area()"
   ]
  }
 ],
 "metadata": {
  "kernelspec": {
   "display_name": "Python 3 (ipykernel)",
   "language": "python",
   "name": "python3"
  },
  "language_info": {
   "codemirror_mode": {
    "name": "ipython",
    "version": 3
   },
   "file_extension": ".py",
   "mimetype": "text/x-python",
   "name": "python",
   "nbconvert_exporter": "python",
   "pygments_lexer": "ipython3",
   "version": "3.9.7"
  }
 },
 "nbformat": 4,
 "nbformat_minor": 4
}
