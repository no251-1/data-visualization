{
 "cells": [
  {
   "cell_type": "markdown",
   "metadata": {},
   "source": [
    "### 任务一\n",
    "\n",
    "读入某天的校园消费数据，生成时间序列索引的 Series ，提取出当天12点至13点之间零售额大于平均值的数据切片。"
   ]
  },
  {
   "cell_type": "code",
   "execution_count": null,
   "metadata": {},
   "outputs": [],
   "source": [
    "# 导入 Pandas 库和 NumPy 库\n"
   ]
  },
  {
   "cell_type": "code",
   "execution_count": null,
   "metadata": {},
   "outputs": [],
   "source": [
    "# 导入某天的校园消费数据（Excel）\n",
    "\n",
    "data_of_one_day = \n",
    "\n",
    "# 查看表头及前 4 行数据\n",
    "\n",
    "data_of_one_day.head()"
   ]
  },
  {
   "cell_type": "code",
   "execution_count": null,
   "metadata": {},
   "outputs": [],
   "source": [
    "# 提取 '交易时间' 和 '实收合计(元)' 2列数据，生成新的 DataFrame：df\n",
    "\n",
    "df = data_of_one_day[[]]\n",
    "df"
   ]
  },
  {
   "cell_type": "code",
   "execution_count": null,
   "metadata": {},
   "outputs": [],
   "source": [
    "# 提取 '实收合计(元)' 列生成名为 \"sales\" 的 Series \n",
    "\n",
    "sales = df[]\n",
    "sales"
   ]
  },
  {
   "cell_type": "code",
   "execution_count": null,
   "metadata": {},
   "outputs": [],
   "source": [
    "# 将 df 的 \"交易时间\" 列数据格式变更为时间序列，并将其设置为 Series sales 的索引（index）\n",
    "\n",
    "sales.index = pd.to_datetime(df['交易时间'])\n",
    "sales"
   ]
  },
  {
   "cell_type": "code",
   "execution_count": null,
   "metadata": {},
   "outputs": [],
   "source": [
    "# 将 sales.index 更名为字符串 'time'\n",
    "\n",
    "sales.index.name = \n",
    "sales"
   ]
  },
  {
   "cell_type": "code",
   "execution_count": null,
   "metadata": {},
   "outputs": [],
   "source": [
    "# 将 Series sales 更名为 'sales'\n",
    "\n",
    "sales.name = \n",
    "sales"
   ]
  },
  {
   "cell_type": "code",
   "execution_count": null,
   "metadata": {},
   "outputs": [],
   "source": [
    "# 查看 sales.index 的数据格式\n",
    "\n",
    "type()"
   ]
  },
  {
   "cell_type": "code",
   "execution_count": null,
   "metadata": {},
   "outputs": [],
   "source": [
    "# 将 sales.index 按时间正序排列\n",
    "\n",
    "sales_time_ascending = sales.sort_index()\n",
    "sales = sales_time_ascending"
   ]
  },
  {
   "cell_type": "code",
   "execution_count": null,
   "metadata": {},
   "outputs": [],
   "source": [
    "# 用 Series.describe() 方法查看 Series sales 的基本统计信息\n",
    "\n",
    "sales.describe()"
   ]
  },
  {
   "cell_type": "code",
   "execution_count": null,
   "metadata": {},
   "outputs": [],
   "source": [
    "# 用 Series.sum()方法求当天的销售总额\n",
    "\n",
    "sales.sum()"
   ]
  },
  {
   "cell_type": "code",
   "execution_count": null,
   "metadata": {},
   "outputs": [],
   "source": [
    "# 已知 Series.mean()返回值为 Series 的平均值，应用条件选择提取大于平均值的数据切片\n",
    "\n",
    "sales_larger_than_mean = sales[]\n",
    "sales_larger_than_mean"
   ]
  },
  {
   "cell_type": "code",
   "execution_count": null,
   "metadata": {},
   "outputs": [],
   "source": [
    "# 提取当天 12点至 13点之间大于平均值的数据切片\n",
    "\n",
    "sales_larger_than_mean[]"
   ]
  }
 ],
 "metadata": {
  "kernelspec": {
   "display_name": "Python 3 (ipykernel)",
   "language": "python",
   "name": "python3"
  },
  "language_info": {
   "codemirror_mode": {
    "name": "ipython",
    "version": 3
   },
   "file_extension": ".py",
   "mimetype": "text/x-python",
   "name": "python",
   "nbconvert_exporter": "python",
   "pygments_lexer": "ipython3",
   "version": "3.9.7"
  }
 },
 "nbformat": 4,
 "nbformat_minor": 4
}
