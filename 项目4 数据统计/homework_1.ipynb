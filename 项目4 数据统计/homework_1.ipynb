{
 "cells": [
  {
   "attachments": {},
   "cell_type": "markdown",
   "metadata": {},
   "source": [
    "### 项目任务\n",
    "\n",
    "根据提示，使用某一天的校园消费数据，完成统计运算、排序、分组统计等操作。\n",
    "\n",
    "首先导入 NumPy 和 Pandas 库。"
   ]
  },
  {
   "cell_type": "code",
   "execution_count": null,
   "metadata": {},
   "outputs": [],
   "source": []
  },
  {
   "attachments": {},
   "cell_type": "markdown",
   "metadata": {},
   "source": [
    "#### **统计分析**\n",
    "\n",
    "读入要分析的数据，提取 \"实收合计(元)\" 列，将 \"交易时间\" 列设置为时间序列 index ，并重命名。"
   ]
  },
  {
   "cell_type": "code",
   "execution_count": null,
   "metadata": {},
   "outputs": [],
   "source": [
    "# 读入某天消费数据的 Excel 文件\n",
    "\n",
    "df = \n",
    "\n",
    "# 提取 \"实收合计(元)\" 列数据\n",
    "\n",
    "sales = df[]\n",
    "\n",
    "# 将 \"交易时间\" 设置为 sales 的 index ，注意格式为时间序列\n",
    "\n",
    "sales.index = \n",
    "\n",
    "# 将列名称改为 \"Sales\"，index 名称改为 \"Time\"\n",
    "\n",
    "sales.name = \n",
    "sales.index.name = "
   ]
  },
  {
   "cell_type": "code",
   "execution_count": null,
   "metadata": {},
   "outputs": [],
   "source": [
    "# 查看 sales 的内容\n",
    "\n",
    "sales"
   ]
  },
  {
   "cell_type": "code",
   "execution_count": null,
   "metadata": {},
   "outputs": [],
   "source": [
    "# 查看当天零售额的最大值\n",
    "\n",
    "sales."
   ]
  },
  {
   "cell_type": "code",
   "execution_count": null,
   "metadata": {},
   "outputs": [],
   "source": [
    "# 查看当天零售额的最小值\n",
    "\n",
    "sales."
   ]
  },
  {
   "cell_type": "code",
   "execution_count": null,
   "metadata": {},
   "outputs": [],
   "source": [
    "# 查看当天零售额的总和\n",
    "\n",
    "sales."
   ]
  },
  {
   "cell_type": "code",
   "execution_count": null,
   "metadata": {},
   "outputs": [],
   "source": [
    "# 查看当天零售额的平均值\n",
    "\n",
    "sales."
   ]
  },
  {
   "cell_type": "code",
   "execution_count": null,
   "metadata": {},
   "outputs": [],
   "source": [
    "# 分别打印零售额的第一、第二、第三四分位数\n",
    "\n",
    "print(\"零售额第一四分位数(Q1):\", )\n",
    "print(\"零售额第二四分位数(Q2):\", )\n",
    "print(\"零售额第三四分位数(Q3):\", )"
   ]
  },
  {
   "cell_type": "code",
   "execution_count": null,
   "metadata": {},
   "outputs": [],
   "source": [
    "# 查看 sales 的描述性结果\n",
    "\n",
    "sales."
   ]
  },
  {
   "cell_type": "code",
   "execution_count": null,
   "metadata": {},
   "outputs": [],
   "source": [
    "# 查看当天销售的总量\n",
    "\n",
    "sales."
   ]
  },
  {
   "cell_type": "code",
   "execution_count": null,
   "metadata": {},
   "outputs": [],
   "source": [
    "# 统计每个销售额的数目\n",
    "\n",
    "sales."
   ]
  },
  {
   "attachments": {},
   "cell_type": "markdown",
   "metadata": {},
   "source": [
    "#### **排序**"
   ]
  },
  {
   "cell_type": "code",
   "execution_count": null,
   "metadata": {},
   "outputs": [],
   "source": [
    "# 销售额按时间升序排列\n",
    "\n",
    "sales."
   ]
  },
  {
   "cell_type": "code",
   "execution_count": null,
   "metadata": {},
   "outputs": [],
   "source": [
    "# 销售额按时间降序排列\n",
    "\n",
    "sales."
   ]
  },
  {
   "cell_type": "code",
   "execution_count": null,
   "metadata": {},
   "outputs": [],
   "source": [
    "# 按销售额升序排列\n",
    "\n",
    "sales."
   ]
  },
  {
   "cell_type": "code",
   "execution_count": null,
   "metadata": {},
   "outputs": [],
   "source": [
    "# 按销售额降序排列\n",
    "\n",
    "sales."
   ]
  },
  {
   "cell_type": "code",
   "execution_count": null,
   "metadata": {},
   "outputs": [],
   "source": [
    "# 查看一下 DataFrame 的内容\n",
    "\n",
    "df"
   ]
  },
  {
   "cell_type": "code",
   "execution_count": null,
   "metadata": {},
   "outputs": [],
   "source": [
    "# 指定 '实收合计(元)' 列作为排序依据，将销售额按降序排列\n",
    "\n",
    "df."
   ]
  },
  {
   "cell_type": "code",
   "execution_count": null,
   "metadata": {},
   "outputs": [],
   "source": [
    "# 按列标签升序排列\n",
    "\n",
    "df."
   ]
  },
  {
   "attachments": {},
   "cell_type": "markdown",
   "metadata": {},
   "source": [
    "#### **分组与聚合**"
   ]
  },
  {
   "cell_type": "code",
   "execution_count": null,
   "metadata": {},
   "outputs": [],
   "source": [
    "# 删除 '会员编号' 和 '备注' 列\n",
    "\n",
    "df.drop(['会员编号','备注'],axis=1,inplace=True)"
   ]
  },
  {
   "cell_type": "code",
   "execution_count": null,
   "metadata": {},
   "outputs": [],
   "source": [
    "# 将 df 按 '门店名称'分组，并计算销售额（零售额的和）\n",
    "\n",
    "df.groupby()."
   ]
  },
  {
   "cell_type": "code",
   "execution_count": null,
   "metadata": {},
   "outputs": [],
   "source": [
    "# 将 df 按 '门店名称'分组，并按销售额降序排列\n",
    "\n",
    "df.groupby()."
   ]
  },
  {
   "cell_type": "code",
   "execution_count": null,
   "metadata": {},
   "outputs": [],
   "source": [
    "# 将 df 按 '门店名称'分组，并按零售额的平均值降序排列\n",
    "\n",
    "df.groupby()."
   ]
  },
  {
   "cell_type": "code",
   "execution_count": null,
   "metadata": {},
   "outputs": [],
   "source": [
    "# 将 df 按 '门店名称'分组，并查看描述性结果\n",
    "\n",
    "df.groupby()."
   ]
  }
 ],
 "metadata": {
  "kernelspec": {
   "display_name": "Python 3 (ipykernel)",
   "language": "python",
   "name": "python3"
  },
  "language_info": {
   "codemirror_mode": {
    "name": "ipython",
    "version": 3
   },
   "file_extension": ".py",
   "mimetype": "text/x-python",
   "name": "python",
   "nbconvert_exporter": "python",
   "pygments_lexer": "ipython3",
   "version": "3.9.7"
  }
 },
 "nbformat": 4,
 "nbformat_minor": 4
}
